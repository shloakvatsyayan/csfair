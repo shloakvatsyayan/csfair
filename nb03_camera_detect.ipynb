{
 "cells": [
  {
   "metadata": {
    "ExecuteTime": {
     "end_time": "2025-04-06T20:31:15.425002Z",
     "start_time": "2025-04-06T20:31:15.289476Z"
    }
   },
   "cell_type": "code",
   "source": "import cv2 ",
   "id": "89843cec03d47970",
   "outputs": [],
   "execution_count": 1
  },
  {
   "metadata": {
    "collapsed": true,
    "ExecuteTime": {
     "end_time": "2025-04-06T20:31:15.438224Z",
     "start_time": "2025-04-06T20:31:15.434525Z"
    }
   },
   "cell_type": "code",
   "source": [
    "def list_cameras(max_index=10):\n",
    "    available_cameras = []\n",
    "    for i in range(max_index):\n",
    "        cap = cv2.VideoCapture(i)\n",
    "        if cap is not None and cap.isOpened():\n",
    "            available_cameras.append(i)\n",
    "            cap.release()\n",
    "    return available_cameras"
   ],
   "id": "initial_id",
   "outputs": [],
   "execution_count": 2
  },
  {
   "metadata": {
    "ExecuteTime": {
     "end_time": "2025-04-06T20:31:28.375837Z",
     "start_time": "2025-04-06T20:31:15.443333Z"
    }
   },
   "cell_type": "code",
   "source": [
    "# List available cameras\n",
    "available_cameras = list_cameras()"
   ],
   "id": "d5cce0bed332ee18",
   "outputs": [],
   "execution_count": 3
  },
  {
   "metadata": {
    "ExecuteTime": {
     "end_time": "2025-04-06T20:31:28.649651Z",
     "start_time": "2025-04-06T20:31:28.645910Z"
    }
   },
   "cell_type": "code",
   "source": [
    "# Print available cameras\n",
    "print(\"Available cameras:\", available_cameras)"
   ],
   "id": "e54b464f194d2b3d",
   "outputs": [
    {
     "name": "stdout",
     "output_type": "stream",
     "text": [
      "Available cameras: [0, 1, 2]\n"
     ]
    }
   ],
   "execution_count": 4
  },
  {
   "metadata": {},
   "cell_type": "code",
   "outputs": [],
   "execution_count": null,
   "source": "",
   "id": "7700858ff065521c"
  }
 ],
 "metadata": {
  "kernelspec": {
   "display_name": "Python 3",
   "language": "python",
   "name": "python3"
  },
  "language_info": {
   "codemirror_mode": {
    "name": "ipython",
    "version": 2
   },
   "file_extension": ".py",
   "mimetype": "text/x-python",
   "name": "python",
   "nbconvert_exporter": "python",
   "pygments_lexer": "ipython2",
   "version": "2.7.6"
  }
 },
 "nbformat": 4,
 "nbformat_minor": 5
}
