{
 "cells": [
  {
   "metadata": {},
   "cell_type": "markdown",
   "source": [
    "Note, requires pytorch and ultralytics packages:\n",
    "- https://github.com/ultralytics/ultralytics\n",
    "- https://pytorch.org/get-started/locally/"
   ],
   "id": "1754a7813c555de5"
  },
  {
   "metadata": {
    "jupyter": {
     "is_executing": true
    }
   },
   "cell_type": "code",
   "source": [
    "from ultralytics import YOLO\n",
    "import cv2"
   ],
   "id": "e9fda62b7acb58e7",
   "outputs": [],
   "execution_count": null
  },
  {
   "metadata": {},
   "cell_type": "code",
   "source": [
    "model = YOLO(\"yolo11n.pt\")\n",
    "model.to(\"cuda\")"
   ],
   "id": "a3c0d8d9b0047165",
   "outputs": [],
   "execution_count": null
  },
  {
   "metadata": {},
   "cell_type": "code",
   "source": [
    "cap = cv2.VideoCapture(0)\n",
    "cap.set(cv2.CAP_PROP_FRAME_WIDTH, 1200)\n",
    "cap.set(cv2.CAP_PROP_FRAME_HEIGHT, 1000)"
   ],
   "id": "46f8e9f2ad8c83d2",
   "outputs": [],
   "execution_count": null
  },
  {
   "metadata": {},
   "cell_type": "code",
   "source": [
    "direction_def = [\"right\", \"left\"]\n",
    "\n",
    "while True:\n",
    "    ret, frame = cap.read()\n",
    "    if not ret:\n",
    "        break\n",
    "        \n",
    "    person_center_x = None\n",
    "    \n",
    "    for prediction in model.predict(frame, stream=True, verbose=False):\n",
    "        for box in prediction.boxes:\n",
    "            \n",
    "            if int(box.cls[0]) == 0:\n",
    "                x1, y1, x2, y2 = map(int, box.xyxy[0])\n",
    "                cv2.rectangle(frame, (x1, y1), (x2, y2), (255, 0, 255), 2)\n",
    "                person_center_x = (x1 + x2) // 2\n",
    "                break\n",
    "                \n",
    "        if person_center_x is not None:\n",
    "            break\n",
    "            \n",
    "    if person_center_x is not None:\n",
    "        frame_center_x = frame.shape[1] // 2\n",
    "        direction = 0\n",
    "        if person_center_x > frame_center_x:\n",
    "            direction = 0\n",
    "        else:\n",
    "            direction = 1\n",
    "        print(direction_def[direction])\n",
    "        \n",
    "    cv2.imshow(\"Webcam\", frame)\n",
    "    # note: detects 'q' key press\n",
    "    if cv2.waitKey(1) & 0xFF == ord('q'):\n",
    "        break\n",
    "cap.release()\n",
    "cv2.destroyAllWindows()"
   ],
   "id": "1e3b456c71a1252f",
   "outputs": [],
   "execution_count": null
  },
  {
   "metadata": {},
   "cell_type": "code",
   "source": [
    "#use in case of keyboard interrupt to remove window\n",
    "cap.release()\n",
    "cv2.destroyAllWindows()"
   ],
   "id": "251ce6f5b17ed8bc",
   "outputs": [],
   "execution_count": null
  }
 ],
 "metadata": {
  "kernelspec": {
   "display_name": "Python 3",
   "language": "python",
   "name": "python3"
  },
  "language_info": {
   "codemirror_mode": {
    "name": "ipython",
    "version": 2
   },
   "file_extension": ".py",
   "mimetype": "text/x-python",
   "name": "python",
   "nbconvert_exporter": "python",
   "pygments_lexer": "ipython2",
   "version": "2.7.6"
  }
 },
 "nbformat": 4,
 "nbformat_minor": 5
}
