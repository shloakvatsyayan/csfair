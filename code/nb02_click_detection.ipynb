{
 "cells": [
  {
   "cell_type": "code",
   "id": "initial_id",
   "metadata": {
    "collapsed": true
   },
   "source": [
    "import cv2\n",
    "from ultralytics import YOLO\n",
    "import objtracking.tracking as tracking \n",
    "%load_ext autoreload\n",
    "%autoreload 2"
   ],
   "outputs": [],
   "execution_count": null
  },
  {
   "metadata": {},
   "cell_type": "code",
   "source": [
    "class_to_track = \"person\"\n",
    "model = YOLO(\"../models/yolo11n.pt\")\n",
    "model.to(\"cuda\") #comment this line out if not using an nvidia gpu"
   ],
   "id": "3f1fe5cd956806e",
   "outputs": [],
   "execution_count": null
  },
  {
   "metadata": {},
   "cell_type": "code",
   "source": [
    "camera_stream = cv2.VideoCapture(0)\n",
    "camera_stream.set(cv2.CAP_PROP_FRAME_WIDTH, 1200)\n",
    "camera_stream.set(cv2.CAP_PROP_FRAME_HEIGHT, 1000)"
   ],
   "id": "a5ef2335607044fe",
   "outputs": [],
   "execution_count": null
  },
  {
   "metadata": {},
   "cell_type": "code",
   "source": [
    "frame_processor = tracking.FrameProcessor(class_to_track)\n",
    "\n",
    "cv2.namedWindow(\"Webcam\")\n",
    "cv2.setMouseCallback(\"Webcam\", frame_processor.handle_mouse_click)\n",
    "\n",
    "while True:\n",
    "    ret, frame = camera_stream.read()\n",
    "    if not ret:\n",
    "        break\n",
    "\n",
    "    frame_processor.process_frame(frame, model)\n",
    "\n",
    "    cv2.imshow(\"Webcam\", frame)\n",
    "    key_pressed = cv2.waitKey(1)\n",
    "    if key_pressed & 0xFF == ord('q'):\n",
    "        break"
   ],
   "id": "516619fd7bc3667",
   "outputs": [],
   "execution_count": null
  },
  {
   "metadata": {},
   "cell_type": "code",
   "source": [
    "#run to remove window\n",
    "camera_stream.release()\n",
    "cv2.destroyAllWindows()"
   ],
   "id": "f58a5f5e0d67b31f",
   "outputs": [],
   "execution_count": null
  },
  {
   "metadata": {},
   "cell_type": "code",
   "source": "",
   "id": "7b0573ff9eb072a5",
   "outputs": [],
   "execution_count": null
  }
 ],
 "metadata": {
  "kernelspec": {
   "display_name": "Python 3",
   "language": "python",
   "name": "python3"
  },
  "language_info": {
   "codemirror_mode": {
    "name": "ipython",
    "version": 2
   },
   "file_extension": ".py",
   "mimetype": "text/x-python",
   "name": "python",
   "nbconvert_exporter": "python",
   "pygments_lexer": "ipython2",
   "version": "2.7.6"
  }
 },
 "nbformat": 4,
 "nbformat_minor": 5
}
