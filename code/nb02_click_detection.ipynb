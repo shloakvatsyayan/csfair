{
 "cells": [
  {
   "metadata": {},
   "cell_type": "markdown",
   "source": [
    "Note, requires pytorch and ultralytics packages:\n",
    "- https://github.com/ultralytics/ultralytics\n",
    "- https://pytorch.org/get-started/locally/"
   ],
   "id": "3ecc14ce87ce64"
  },
  {
   "cell_type": "code",
   "id": "initial_id",
   "metadata": {
    "collapsed": true,
    "ExecuteTime": {
     "end_time": "2025-01-18T18:47:42.319186Z",
     "start_time": "2025-01-18T18:47:38.608217Z"
    }
   },
   "source": [
    "import cv2\n",
    "from ultralytics import YOLO\n",
    "import objtracking.tracking as tracking \n",
    "%load_ext autoreload\n",
    "%autoreload 2"
   ],
   "outputs": [],
   "execution_count": 1
  },
  {
   "metadata": {},
   "cell_type": "markdown",
   "source": "model yolov11, v8 might be useful",
   "id": "85c1707136fc808b"
  },
  {
   "metadata": {
    "ExecuteTime": {
     "end_time": "2025-01-18T18:47:42.437804Z",
     "start_time": "2025-01-18T18:47:42.329693Z"
    }
   },
   "cell_type": "code",
   "outputs": [],
   "execution_count": 2,
   "source": [
    "direction_definitions = [\"right\", \"left\"]\n",
    "class_to_track = \"person\"\n",
    "model = YOLO(\"yolo11n.pt\")\n",
    "model.to(\"cuda\") #comment this line out if not using an nvidia gpu"
   ],
   "id": "3f1fe5cd956806e"
  },
  {
   "metadata": {
    "ExecuteTime": {
     "end_time": "2025-01-18T19:14:36.793365Z",
     "start_time": "2025-01-18T19:14:26.106889Z"
    }
   },
   "cell_type": "code",
   "source": [
    "camera_stream = cv2.VideoCapture(0)\n",
    "camera_stream.set(cv2.CAP_PROP_FRAME_WIDTH, 1200)\n",
    "camera_stream.set(cv2.CAP_PROP_FRAME_HEIGHT, 1000)"
   ],
   "id": "a5ef2335607044fe",
   "outputs": [
    {
     "data": {
      "text/plain": [
       "True"
      ]
     },
     "execution_count": 14,
     "metadata": {},
     "output_type": "execute_result"
    }
   ],
   "execution_count": 14
  },
  {
   "metadata": {
    "ExecuteTime": {
     "end_time": "2025-01-18T19:14:45.314262Z",
     "start_time": "2025-01-18T19:14:39.305590Z"
    }
   },
   "cell_type": "code",
   "source": [
    "frame_processor = tracking.FrameProcessor(class_to_track)\n",
    "\n",
    "cv2.namedWindow(\"Webcam\")\n",
    "cv2.setMouseCallback(\"Webcam\", frame_processor.handle_mouse_click)\n",
    "\n",
    "while True:\n",
    "    ret, frame = camera_stream.read()\n",
    "    if not ret:\n",
    "        break\n",
    "\n",
    "    frame_processor.process_frame(frame, model)\n",
    "\n",
    "    cv2.imshow(\"Webcam\", frame)\n",
    "    key_pressed = cv2.waitKey(1)\n",
    "    if key_pressed & 0xFF == ord('q'):\n",
    "        break"
   ],
   "id": "516619fd7bc3667",
   "outputs": [],
   "execution_count": 15
  },
  {
   "metadata": {
    "ExecuteTime": {
     "end_time": "2025-01-18T19:03:02.508642Z",
     "start_time": "2025-01-18T19:03:01.968996Z"
    }
   },
   "cell_type": "code",
   "source": [
    "#use in case of keyboard interrupt to remove window\n",
    "camera_stream.release()\n",
    "cv2.destroyAllWindows()"
   ],
   "id": "f58a5f5e0d67b31f",
   "outputs": [],
   "execution_count": 9
  },
  {
   "metadata": {},
   "cell_type": "markdown",
   "source": [
    "## Turn Detection inside of loop\n",
    "```python\n",
    "    if is_person_selected and current_tracked_box:\n",
    "        tracked_x1, tracked_y1, tracked_x2, tracked_y2 = current_tracked_box\n",
    "        person_center_x = (tracked_x1 + tracked_x2) // 2\n",
    "        frame_center_x = frame.shape[1] // 2\n",
    "        if person_center_x > frame_center_x:\n",
    "            direction_index = 0\n",
    "        else:\n",
    "            direction_index = 1\n",
    "        #print(direction_definitions[direction_index])\n",
    "```"
   ],
   "id": "3a98a6874c2f4bc8"
  }
 ],
 "metadata": {
  "kernelspec": {
   "display_name": "Python 3",
   "language": "python",
   "name": "python3"
  },
  "language_info": {
   "codemirror_mode": {
    "name": "ipython",
    "version": 2
   },
   "file_extension": ".py",
   "mimetype": "text/x-python",
   "name": "python",
   "nbconvert_exporter": "python",
   "pygments_lexer": "ipython2",
   "version": "2.7.6"
  }
 },
 "nbformat": 4,
 "nbformat_minor": 5
}
